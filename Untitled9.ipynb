{
 "cells": [
  {
   "cell_type": "code",
   "execution_count": 1,
   "metadata": {},
   "outputs": [],
   "source": [
    "import yfinance as yf\n",
    "import pandas as pd\n",
    "import numpy as np\n",
    "from sklearn.linear_model import LinearRegression"
   ]
  },
  {
   "cell_type": "code",
   "execution_count": 2,
   "metadata": {},
   "outputs": [
    {
     "name": "stdout",
     "output_type": "stream",
     "text": [
      "[*********************100%***********************]  2 of 2 completed\n",
      "slope: [0.49446309]\n"
     ]
    }
   ],
   "source": [
    "#2005\n",
    "stocks = ['^GSPC','UL']\n",
    "\n",
    "\n",
    "\n",
    "\n",
    "stocks\n",
    "\n",
    "#Date range\n",
    "start = '2004-12-31'\n",
    "end = '2022-03-31'\n",
    "\n",
    "#Downloading Data\n",
    "data = yf.download(stocks,start = start,end=end)\n",
    "data = data.loc[:,('Adj Close', slice(None))]\n",
    "data = data.pct_change()\n",
    "data.dropna(inplace=True)\n",
    "\n",
    "data.to_csv('Desktop/data.csv')\n",
    "#display(data)\n",
    "data.columns = stocks \n",
    "#y = stocks.to_numpy()\n",
    "X = data['^GSPC'].to_numpy().reshape((-1, 1))\n",
    "Y = data['UL'].to_numpy()\n",
    "\n",
    "\n",
    "\n",
    "model = LinearRegression().fit(X,Y)\n",
    "print(f\"slope: {model.coef_}\")"
   ]
  },
  {
   "cell_type": "code",
   "execution_count": 3,
   "metadata": {},
   "outputs": [
    {
     "name": "stdout",
     "output_type": "stream",
     "text": [
      "[*********************100%***********************]  2 of 2 completed\n",
      "slope: [0.45348951]\n"
     ]
    }
   ],
   "source": [
    "# 2010\n",
    "stocks = ['^GSPC','UL']\n",
    "\n",
    "\n",
    "\n",
    "\n",
    "stocks\n",
    "\n",
    "#Date range\n",
    "start = '2009-12-31'\n",
    "end = '2022-03-31'\n",
    "\n",
    "#Downloading Data\n",
    "data = yf.download(stocks,start = start,end=end)\n",
    "data = data.loc[:,('Adj Close', slice(None))]\n",
    "data = data.pct_change()\n",
    "data.dropna(inplace=True)\n",
    "#display(data)\n",
    "data.columns = stocks \n",
    "#y = stocks.to_numpy()\n",
    "X = data['^GSPC'].to_numpy().reshape((-1, 1))\n",
    "Y = data['UL'].to_numpy()\n",
    "\n",
    "\n",
    "\n",
    "\n",
    "model = LinearRegression().fit(X,Y)\n",
    "print(f\"slope: {model.coef_}\")"
   ]
  },
  {
   "cell_type": "code",
   "execution_count": 4,
   "metadata": {},
   "outputs": [
    {
     "name": "stdout",
     "output_type": "stream",
     "text": [
      "[*********************100%***********************]  2 of 2 completed\n",
      "slope: [0.40339777]\n"
     ]
    }
   ],
   "source": [
    "#2015\n",
    "stocks = ['^GSPC','UL']\n",
    "\n",
    "\n",
    "\n",
    "\n",
    "stocks\n",
    "\n",
    "#Date range\n",
    "start = '2014-12-31'\n",
    "end = '2022-03-31'\n",
    "\n",
    "#Downloading Data\n",
    "data = yf.download(stocks,start = start,end=end)\n",
    "data = data.loc[:,('Adj Close', slice(None))]\n",
    "data = data.pct_change()\n",
    "data.dropna(inplace=True)\n",
    "#display(data)\n",
    "\n",
    "data.columns = stocks \n",
    "#y = stocks.to_numpy()\n",
    "X = data['^GSPC'].to_numpy().reshape((-1, 1))\n",
    "Y = data['UL'].to_numpy()\n",
    "\n",
    "\n",
    "\n",
    "\n",
    "model = LinearRegression().fit(X,Y)\n",
    "print(f\"slope: {model.coef_}\")"
   ]
  },
  {
   "cell_type": "code",
   "execution_count": 5,
   "metadata": {},
   "outputs": [
    {
     "name": "stdout",
     "output_type": "stream",
     "text": [
      "[*********************100%***********************]  2 of 2 completed\n",
      "slope: [0.14107475]\n"
     ]
    }
   ],
   "source": [
    "#2020\n",
    "stocks = ['^GSPC','UL']\n",
    "\n",
    "\n",
    "\n",
    "\n",
    "stocks\n",
    "\n",
    "#Date range\n",
    "start = '2020-12-31'\n",
    "end = '2022-03-31'\n",
    "\n",
    "#Downloading Data\n",
    "data = yf.download(stocks,start = start,end=end)\n",
    "data = data.loc[:,('Adj Close', slice(None))]\n",
    "data = data.pct_change()\n",
    "data.dropna(inplace=True)\n",
    "\n",
    "#display(data)\n",
    "data.columns = stocks \n",
    "#y = stocks.to_numpy()\n",
    "X = data['^GSPC'].to_numpy().reshape((-1, 1))\n",
    "Y = data['UL'].to_numpy()\n",
    "\n",
    "\n",
    "\n",
    "model = LinearRegression().fit(X,Y)\n",
    "print(f\"slope: {model.coef_}\")"
   ]
  },
  {
   "cell_type": "code",
   "execution_count": null,
   "metadata": {},
   "outputs": [],
   "source": []
  }
 ],
 "metadata": {
  "kernelspec": {
   "display_name": "Python 3",
   "language": "python",
   "name": "python3"
  },
  "language_info": {
   "codemirror_mode": {
    "name": "ipython",
    "version": 3
   },
   "file_extension": ".py",
   "mimetype": "text/x-python",
   "name": "python",
   "nbconvert_exporter": "python",
   "pygments_lexer": "ipython3",
   "version": "3.8.5"
  }
 },
 "nbformat": 4,
 "nbformat_minor": 4
}
